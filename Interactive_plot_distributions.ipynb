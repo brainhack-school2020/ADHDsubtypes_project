{
 "cells": [
  {
   "cell_type": "markdown",
   "metadata": {
    "toc": true
   },
   "source": [
    "<h1>Table of Contents<span class=\"tocSkip\"></span></h1>\n",
    "<div class=\"toc\"><ul class=\"toc-item\"><li><span><a href=\"#Let's-visualiste-our-Cognitive-distributions.-We-will-use-Plotly-in-order-to-create-interactive-graphs.\" data-toc-modified-id=\"Let's-visualiste-our-Cognitive-distributions.-We-will-use-Plotly-in-order-to-create-interactive-graphs.-1\"><span class=\"toc-item-num\">1&nbsp;&nbsp;</span>Let's visualiste our Cognitive distributions. We will use Plotly in order to create interactive graphs.</a></span><ul class=\"toc-item\"><li><span><a href=\"#First-step-is-a-little-data-wrangling.\" data-toc-modified-id=\"First-step-is-a-little-data-wrangling.-1.1\"><span class=\"toc-item-num\">1.1&nbsp;&nbsp;</span>First step is a little data wrangling.</a></span></li></ul></li><li><span><a href=\"#We're-going-to-visualie-the-Conners-Scale-data-first.\" data-toc-modified-id=\"We're-going-to-visualie-the-Conners-Scale-data-first.-2\"><span class=\"toc-item-num\">2&nbsp;&nbsp;</span>We're going to visualie the Conners Scale data first.</a></span><ul class=\"toc-item\"><li><span><a href=\"#We-need-to-create-our-widgets.-We-chose-to-let-users-interact-with-gender,-ADHD-subtype,-and-to-choose-which-Conners-variables-they-want-to-visualize.\" data-toc-modified-id=\"We-need-to-create-our-widgets.-We-chose-to-let-users-interact-with-gender,-ADHD-subtype,-and-to-choose-which-Conners-variables-they-want-to-visualize.-2.1\"><span class=\"toc-item-num\">2.1&nbsp;&nbsp;</span>We need to create our widgets. We chose to let users interact with gender, ADHD subtype, and to choose which Conners variables they want to visualize.</a></span></li><li><span><a href=\"#Here-is-the-interactive-plot!\" data-toc-modified-id=\"Here-is-the-interactive-plot!-2.2\"><span class=\"toc-item-num\">2.2&nbsp;&nbsp;</span>Here is the interactive plot!</a></span></li></ul></li><li><span><a href=\"#Now,-let's-do-the-same-thing-with-our-Behavioral-data-(IVA-II)\" data-toc-modified-id=\"Now,-let's-do-the-same-thing-with-our-Behavioral-data-(IVA-II)-3\"><span class=\"toc-item-num\">3&nbsp;&nbsp;</span>Now, let's do the same thing with our Behavioral data (IVA-II)</a></span><ul class=\"toc-item\"><li><span><a href=\"#Let's-start-by-creating-our-widgets.\" data-toc-modified-id=\"Let's-start-by-creating-our-widgets.-3.1\"><span class=\"toc-item-num\">3.1&nbsp;&nbsp;</span>Let's start by creating our widgets.</a></span></li><li><span><a href=\"#Here-is-our-behavioral-interactive-plot.-Once-again,-users-can-decide-which-gender,-ADHD-subtype-and-behavioral-variable-they-want-to-visualize.\" data-toc-modified-id=\"Here-is-our-behavioral-interactive-plot.-Once-again,-users-can-decide-which-gender,-ADHD-subtype-and-behavioral-variable-they-want-to-visualize.-3.2\"><span class=\"toc-item-num\">3.2&nbsp;&nbsp;</span>Here is our behavioral interactive plot. Once again, users can decide which gender, ADHD subtype and behavioral variable they want to visualize.</a></span></li></ul></li></ul></div>"
   ]
  },
  {
   "cell_type": "markdown",
   "metadata": {},
   "source": [
    "# Let's visualiste our Cognitive distributions. We will use Plotly in order to create interactive graphs.\n",
    "## First step is a little data wrangling."
   ]
  },
  {
   "cell_type": "code",
   "execution_count": 1,
   "metadata": {},
   "outputs": [],
   "source": [
    "import pandas as pd\n",
    "import numpy as np\n",
    "import scipy\n",
    "from scipy import stats\n",
    "import matplotlib.pyplot as plt\n",
    "import seaborn as sns\n",
    "import preprocessing as pre\n",
    "import os\n",
    "%matplotlib inline\n",
    "import warnings\n",
    "warnings.filterwarnings('ignore')\n",
    "import plotly.graph_objects as go\n",
    "import ipywidgets\n",
    "from ipywidgets import widgets"
   ]
  },
  {
   "cell_type": "code",
   "execution_count": 2,
   "metadata": {},
   "outputs": [
    {
     "name": "stdout",
     "output_type": "stream",
     "text": [
      "id                     int64\n",
      "Gender                 int64\n",
      "subtype               object\n",
      "adhdtype               int64\n",
      "brain_oscillation     object\n",
      "electrode             object\n",
      "fft_abs_power        float64\n",
      "cIM                  float64\n",
      "cHR                  float64\n",
      "cIE                  float64\n",
      "cSC                  float64\n",
      "Aqtot                float64\n",
      "Aqaudi               float64\n",
      "Aqvis                float64\n",
      "RCQtot               float64\n",
      "RCQaudi              float64\n",
      "RCQvis               float64\n",
      "dtype: object\n"
     ]
    }
   ],
   "source": [
    "df_analysis = pd.read_csv('Data/df_analysis', index_col=[0])\n",
    "print(df_analysis.dtypes)\n"
   ]
  },
  {
   "cell_type": "code",
   "execution_count": 3,
   "metadata": {},
   "outputs": [
    {
     "name": "stdout",
     "output_type": "stream",
     "text": [
      "id                     int64\n",
      "Gender                object\n",
      "subtype               object\n",
      "adhdtype              object\n",
      "brain_oscillation     object\n",
      "electrode             object\n",
      "fft_abs_power        float64\n",
      "cIM                  float64\n",
      "cHR                  float64\n",
      "cIE                  float64\n",
      "cSC                  float64\n",
      "Aqtot                float64\n",
      "Aqaudi               float64\n",
      "Aqvis                float64\n",
      "RCQtot               float64\n",
      "RCQaudi              float64\n",
      "RCQvis               float64\n",
      "dtype: object\n"
     ]
    }
   ],
   "source": [
    "df_analysis['Gender'] = df_analysis['Gender'].apply(str)\n",
    "df_analysis['adhdtype'] = df_analysis['adhdtype'].apply(str)\n",
    "print(df_analysis.dtypes)\n"
   ]
  },
  {
   "cell_type": "code",
   "execution_count": 4,
   "metadata": {},
   "outputs": [],
   "source": [
    "df_conners = df_analysis[['id', 'Gender', 'adhdtype', 'cIM', 'cHR', 'cIE', 'cSC']]\n",
    "df_behavioral = df_analysis[['id', 'Gender', 'adhdtype', 'Aqtot', 'Aqaudi', 'Aqvis', 'RCQtot', 'RCQaudi', 'RCQvis']]\n"
   ]
  },
  {
   "cell_type": "code",
   "execution_count": 5,
   "metadata": {},
   "outputs": [
    {
     "data": {
      "text/plain": [
       "array(['1', '2'], dtype=object)"
      ]
     },
     "execution_count": 5,
     "metadata": {},
     "output_type": "execute_result"
    }
   ],
   "source": [
    "df_conners['Gender'].unique()\n",
    "df_behavioral['Gender'].unique()\n"
   ]
  },
  {
   "cell_type": "code",
   "execution_count": 6,
   "metadata": {},
   "outputs": [
    {
     "data": {
      "text/plain": [
       "array(['2', '1', '0'], dtype=object)"
      ]
     },
     "execution_count": 6,
     "metadata": {},
     "output_type": "execute_result"
    }
   ],
   "source": [
    "df_conners['adhdtype'].unique()\n",
    "df_behavioral['adhdtype'].unique()\n"
   ]
  },
  {
   "cell_type": "code",
   "execution_count": 7,
   "metadata": {},
   "outputs": [
    {
     "data": {
      "text/html": [
       "<div>\n",
       "<style scoped>\n",
       "    .dataframe tbody tr th:only-of-type {\n",
       "        vertical-align: middle;\n",
       "    }\n",
       "\n",
       "    .dataframe tbody tr th {\n",
       "        vertical-align: top;\n",
       "    }\n",
       "\n",
       "    .dataframe thead th {\n",
       "        text-align: right;\n",
       "    }\n",
       "</style>\n",
       "<table border=\"1\" class=\"dataframe\">\n",
       "  <thead>\n",
       "    <tr style=\"text-align: right;\">\n",
       "      <th></th>\n",
       "      <th>id</th>\n",
       "      <th>Gender</th>\n",
       "      <th>adhdtype</th>\n",
       "      <th>Aqtot</th>\n",
       "      <th>Aqaudi</th>\n",
       "      <th>Aqvis</th>\n",
       "      <th>RCQtot</th>\n",
       "      <th>RCQaudi</th>\n",
       "      <th>RCQvis</th>\n",
       "    </tr>\n",
       "  </thead>\n",
       "  <tbody>\n",
       "    <tr>\n",
       "      <th>0</th>\n",
       "      <td>1</td>\n",
       "      <td>1</td>\n",
       "      <td>2</td>\n",
       "      <td>90.0</td>\n",
       "      <td>91.0</td>\n",
       "      <td>92.0</td>\n",
       "      <td>94.0</td>\n",
       "      <td>80.0</td>\n",
       "      <td>110.0</td>\n",
       "    </tr>\n",
       "    <tr>\n",
       "      <th>350</th>\n",
       "      <td>3</td>\n",
       "      <td>1</td>\n",
       "      <td>2</td>\n",
       "      <td>27.0</td>\n",
       "      <td>34.0</td>\n",
       "      <td>41.0</td>\n",
       "      <td>25.0</td>\n",
       "      <td>31.0</td>\n",
       "      <td>38.0</td>\n",
       "    </tr>\n",
       "    <tr>\n",
       "      <th>551</th>\n",
       "      <td>4</td>\n",
       "      <td>1</td>\n",
       "      <td>1</td>\n",
       "      <td>93.0</td>\n",
       "      <td>89.0</td>\n",
       "      <td>96.0</td>\n",
       "      <td>90.0</td>\n",
       "      <td>92.0</td>\n",
       "      <td>90.0</td>\n",
       "    </tr>\n",
       "    <tr>\n",
       "      <th>768</th>\n",
       "      <td>7</td>\n",
       "      <td>1</td>\n",
       "      <td>1</td>\n",
       "      <td>86.0</td>\n",
       "      <td>66.0</td>\n",
       "      <td>112.0</td>\n",
       "      <td>94.0</td>\n",
       "      <td>90.0</td>\n",
       "      <td>100.0</td>\n",
       "    </tr>\n",
       "    <tr>\n",
       "      <th>1098</th>\n",
       "      <td>11</td>\n",
       "      <td>1</td>\n",
       "      <td>2</td>\n",
       "      <td>45.0</td>\n",
       "      <td>33.0</td>\n",
       "      <td>78.0</td>\n",
       "      <td>69.0</td>\n",
       "      <td>51.0</td>\n",
       "      <td>94.0</td>\n",
       "    </tr>\n",
       "    <tr>\n",
       "      <th>...</th>\n",
       "      <td>...</td>\n",
       "      <td>...</td>\n",
       "      <td>...</td>\n",
       "      <td>...</td>\n",
       "      <td>...</td>\n",
       "      <td>...</td>\n",
       "      <td>...</td>\n",
       "      <td>...</td>\n",
       "      <td>...</td>\n",
       "    </tr>\n",
       "    <tr>\n",
       "      <th>13794</th>\n",
       "      <td>602</td>\n",
       "      <td>1</td>\n",
       "      <td>1</td>\n",
       "      <td>80.0</td>\n",
       "      <td>87.0</td>\n",
       "      <td>77.0</td>\n",
       "      <td>71.0</td>\n",
       "      <td>71.0</td>\n",
       "      <td>79.0</td>\n",
       "    </tr>\n",
       "    <tr>\n",
       "      <th>14003</th>\n",
       "      <td>603</td>\n",
       "      <td>1</td>\n",
       "      <td>1</td>\n",
       "      <td>111.0</td>\n",
       "      <td>103.0</td>\n",
       "      <td>118.0</td>\n",
       "      <td>63.0</td>\n",
       "      <td>78.0</td>\n",
       "      <td>56.0</td>\n",
       "    </tr>\n",
       "    <tr>\n",
       "      <th>15674</th>\n",
       "      <td>700</td>\n",
       "      <td>2</td>\n",
       "      <td>2</td>\n",
       "      <td>83.0</td>\n",
       "      <td>80.0</td>\n",
       "      <td>89.0</td>\n",
       "      <td>70.0</td>\n",
       "      <td>72.0</td>\n",
       "      <td>75.0</td>\n",
       "    </tr>\n",
       "    <tr>\n",
       "      <th>15814</th>\n",
       "      <td>701</td>\n",
       "      <td>1</td>\n",
       "      <td>2</td>\n",
       "      <td>0.0</td>\n",
       "      <td>20.0</td>\n",
       "      <td>0.0</td>\n",
       "      <td>29.0</td>\n",
       "      <td>32.0</td>\n",
       "      <td>42.0</td>\n",
       "    </tr>\n",
       "    <tr>\n",
       "      <th>16026</th>\n",
       "      <td>702</td>\n",
       "      <td>1</td>\n",
       "      <td>1</td>\n",
       "      <td>91.0</td>\n",
       "      <td>88.0</td>\n",
       "      <td>95.0</td>\n",
       "      <td>94.0</td>\n",
       "      <td>87.0</td>\n",
       "      <td>104.0</td>\n",
       "    </tr>\n",
       "  </tbody>\n",
       "</table>\n",
       "<p>96 rows × 9 columns</p>\n",
       "</div>"
      ],
      "text/plain": [
       "        id Gender adhdtype  Aqtot  Aqaudi  Aqvis  RCQtot  RCQaudi  RCQvis\n",
       "0        1      1        2   90.0    91.0   92.0    94.0     80.0   110.0\n",
       "350      3      1        2   27.0    34.0   41.0    25.0     31.0    38.0\n",
       "551      4      1        1   93.0    89.0   96.0    90.0     92.0    90.0\n",
       "768      7      1        1   86.0    66.0  112.0    94.0     90.0   100.0\n",
       "1098    11      1        2   45.0    33.0   78.0    69.0     51.0    94.0\n",
       "...    ...    ...      ...    ...     ...    ...     ...      ...     ...\n",
       "13794  602      1        1   80.0    87.0   77.0    71.0     71.0    79.0\n",
       "14003  603      1        1  111.0   103.0  118.0    63.0     78.0    56.0\n",
       "15674  700      2        2   83.0    80.0   89.0    70.0     72.0    75.0\n",
       "15814  701      1        2    0.0    20.0    0.0    29.0     32.0    42.0\n",
       "16026  702      1        1   91.0    88.0   95.0    94.0     87.0   104.0\n",
       "\n",
       "[96 rows x 9 columns]"
      ]
     },
     "execution_count": 7,
     "metadata": {},
     "output_type": "execute_result"
    }
   ],
   "source": [
    "df_conners = df_conners.drop_duplicates(subset = [\"id\"])\n",
    "df_behavioral = df_behavioral.drop_duplicates(subset = [\"id\"])\n",
    "df_behavioral\n"
   ]
  },
  {
   "cell_type": "markdown",
   "metadata": {},
   "source": [
    "# We're going to visualie the Conners Scale data first.\n",
    "## We need to create our widgets. We chose to let users interact with gender, ADHD subtype, and to choose which Conners variables they want to visualize."
   ]
  },
  {
   "cell_type": "code",
   "execution_count": 8,
   "metadata": {},
   "outputs": [],
   "source": [
    "Gender = widgets.Dropdown(\n",
    "    description='Gender:   ',\n",
    "    value='2',\n",
    "    options=df_conners['Gender'].unique().tolist()\n",
    ")\n",
    "\n",
    "adhdtype = widgets.Dropdown(\n",
    "    options=df_conners['adhdtype'].unique(),\n",
    "    value='2',\n",
    "    description='ADHD subtype:',\n",
    ")"
   ]
  },
  {
   "cell_type": "code",
   "execution_count": 9,
   "metadata": {},
   "outputs": [],
   "source": [
    "# Assign an empty figure widget with two traces\n",
    "trace1 = go.Histogram(x=df_conners['cIM'], opacity=0.50, name='Inattention/Memory')\n",
    "trace2 = go.Histogram(x=df_conners['cHR'], opacity=0.50, name='Hyperactivity/Restlessness')\n",
    "trace3 = go.Histogram(x=df_conners['cIE'], opacity=0.50, name='Impulsivity/Emotional Lability')\n",
    "trace4 = go.Histogram(x=df_conners['cSC'], opacity=0.50, name='Self Concept')\n",
    "g = go.FigureWidget(data=[trace1, trace2, trace3, trace4],\n",
    "                    layout=go.Layout(\n",
    "                        title=dict(\n",
    "                            text='Cognitive Variable'\n",
    "                        ),\n",
    "                        barmode='overlay'\n",
    "                    ))"
   ]
  },
  {
   "cell_type": "code",
   "execution_count": 10,
   "metadata": {},
   "outputs": [],
   "source": [
    "def validate():\n",
    "    if Gender.value in df_conners['Gender'].unique() and adhdtype.value in df_conners['adhdtype'].unique():\n",
    "        return True\n",
    "    else:\n",
    "        return False"
   ]
  },
  {
   "cell_type": "code",
   "execution_count": 11,
   "metadata": {},
   "outputs": [],
   "source": [
    "def response(change):\n",
    " if validate():\n",
    "    filter_list = [i and j for i, j in\n",
    "                      zip(df_conners['Gender'] == Gender.value, df_conners['adhdtype'] == adhdtype.value)]\n",
    "    temp_df = df_conners[filter_list]\n",
    "    x1 = temp_df['cIM']\n",
    "    x2 = temp_df['cHR']\n",
    "    x3 = temp_df['cIE']\n",
    "    x4 = temp_df['cSC']\n",
    "    with g.batch_update():\n",
    "        g.data[0].x = x1\n",
    "        g.data[1].x = x2\n",
    "        g.data[2].x = x3\n",
    "        g.data[3].x = x4\n",
    "        g.layout.barmode = 'overlay'\n",
    "        g.layout.xaxis.title = 'Subject iD'\n",
    "        g.layout.yaxis.title = 'Cognitive Scores'"
   ]
  },
  {
   "cell_type": "code",
   "execution_count": 12,
   "metadata": {},
   "outputs": [],
   "source": [
    "adhdtype.observe(response, names=\"value\")\n",
    "Gender.observe(response, names=\"value\")\n"
   ]
  },
  {
   "cell_type": "markdown",
   "metadata": {},
   "source": [
    "## Here is the interactive plot!"
   ]
  },
  {
   "cell_type": "code",
   "execution_count": 13,
   "metadata": {},
   "outputs": [
    {
     "data": {
      "application/vnd.jupyter.widget-view+json": {
       "model_id": "c360926e61364cf5bf6940ad1abd9f1e",
       "version_major": 2,
       "version_minor": 0
      },
      "text/plain": [
       "VBox(children=(HBox(children=(Dropdown(description='ADHD subtype:', options=('2', '1', '0'), value='2'), Dropd…"
      ]
     },
     "metadata": {},
     "output_type": "display_data"
    }
   ],
   "source": [
    "container = widgets.HBox([adhdtype, Gender])\n",
    "widgets.VBox([container, g])"
   ]
  },
  {
   "cell_type": "markdown",
   "metadata": {},
   "source": [
    "# Now, let's do the same thing with our Behavioral data (IVA-II)\n",
    "## Let's start by creating our widgets."
   ]
  },
  {
   "cell_type": "code",
   "execution_count": 14,
   "metadata": {},
   "outputs": [],
   "source": [
    "Gender = widgets.Dropdown(\n",
    "    description='Gender:   ',\n",
    "    value='2',\n",
    "    options=df_behavioral['Gender'].unique().tolist()\n",
    ")\n",
    "\n",
    "adhdtype = widgets.Dropdown(\n",
    "    options=df_behavioral['adhdtype'].unique(),\n",
    "    value='2',\n",
    "    description='ADHD subtype:',\n",
    ")"
   ]
  },
  {
   "cell_type": "code",
   "execution_count": 15,
   "metadata": {},
   "outputs": [],
   "source": [
    "# Assign an empty figure widget with two traces\n",
    "trace1 = go.Histogram(x=df_behavioral['Aqtot'], opacity=0.50, name='General Attention')\n",
    "trace2 = go.Histogram(x=df_behavioral['Aqaudi'], opacity=0.50, name='Auditory Attention')\n",
    "trace3 = go.Histogram(x=df_behavioral['Aqvis'], opacity=0.50, name='Visual Attention')\n",
    "trace4 = go.Histogram(x=df_behavioral['RCQtot'], opacity=0.50, name='General Response Control')\n",
    "trace5 = go.Histogram(x=df_behavioral['RCQaudi'], opacity=0.50, name='Auditory Response Control')\n",
    "trace6 = go.Histogram(x=df_behavioral['RCQvis'], opacity=0.50, name='Visual Response Control')\n",
    "g = go.FigureWidget(data=[trace1, trace2, trace3, trace4, trace5, trace6],\n",
    "                    layout=go.Layout(\n",
    "                        title=dict(\n",
    "                            text='Behavioral Variable'\n",
    "                        ),\n",
    "                        barmode='overlay'\n",
    "                    ))\n"
   ]
  },
  {
   "cell_type": "code",
   "execution_count": 16,
   "metadata": {},
   "outputs": [],
   "source": [
    "def validate():\n",
    "    if Gender.value in df_behavioral['Gender'].unique() and adhdtype.value in df_behavioral['adhdtype'].unique():\n",
    "        return True\n",
    "    else:\n",
    "        return False"
   ]
  },
  {
   "cell_type": "code",
   "execution_count": 17,
   "metadata": {},
   "outputs": [],
   "source": [
    "def response(change):\n",
    " if validate():\n",
    "    filter_list = [i and j for i, j in\n",
    "                      zip(df_behavioral['Gender'] == Gender.value, df_behavioral['adhdtype'] == adhdtype.value)]\n",
    "    temp_df = df_behavioral[filter_list]\n",
    "    x1 = temp_df['Aqtot']\n",
    "    x2 = temp_df['Aqaudi']\n",
    "    x3 = temp_df['Aqvis']\n",
    "    x4 = temp_df['RCQtot']\n",
    "    x5 = temp_df['RCQaudi']\n",
    "    x6 = temp_df['RCQvis']\n",
    "    with g.batch_update():\n",
    "        g.data[0].x = x1\n",
    "        g.data[1].x = x2\n",
    "        g.data[2].x = x3\n",
    "        g.data[3].x = x4\n",
    "        g.data[4].x = x5\n",
    "        g.data[5].x = x6\n",
    "        g.layout.barmode = 'overlay'\n",
    "        g.layout.xaxis.title = 'Subject iD'\n",
    "        g.layout.yaxis.title = 'Behavioral Scores'"
   ]
  },
  {
   "cell_type": "code",
   "execution_count": 18,
   "metadata": {},
   "outputs": [],
   "source": [
    "adhdtype.observe(response, names=\"value\")\n",
    "Gender.observe(response, names=\"value\")\n"
   ]
  },
  {
   "cell_type": "markdown",
   "metadata": {},
   "source": [
    "## Here is our behavioral interactive plot. Once again, users can decide which gender, ADHD subtype and behavioral variable they want to visualize."
   ]
  },
  {
   "cell_type": "code",
   "execution_count": 19,
   "metadata": {},
   "outputs": [
    {
     "data": {
      "application/vnd.jupyter.widget-view+json": {
       "model_id": "23c5db7eff9f46a98431ef61f83e2ad7",
       "version_major": 2,
       "version_minor": 0
      },
      "text/plain": [
       "VBox(children=(HBox(children=(Dropdown(description='ADHD subtype:', options=('2', '1', '0'), value='2'), Dropd…"
      ]
     },
     "metadata": {},
     "output_type": "display_data"
    }
   ],
   "source": [
    "container = widgets.HBox([adhdtype, Gender])\n",
    "widgets.VBox([container, g])"
   ]
  },
  {
   "cell_type": "code",
   "execution_count": null,
   "metadata": {},
   "outputs": [],
   "source": []
  }
 ],
 "metadata": {
  "kernelspec": {
   "display_name": "Python 3",
   "language": "python",
   "name": "python3"
  },
  "language_info": {
   "codemirror_mode": {
    "name": "ipython",
    "version": 3
   },
   "file_extension": ".py",
   "mimetype": "text/x-python",
   "name": "python",
   "nbconvert_exporter": "python",
   "pygments_lexer": "ipython3",
   "version": "3.7.6"
  },
  "toc": {
   "base_numbering": 1,
   "nav_menu": {},
   "number_sections": true,
   "sideBar": true,
   "skip_h1_title": false,
   "title_cell": "Table of Contents",
   "title_sidebar": "Contents",
   "toc_cell": true,
   "toc_position": {},
   "toc_section_display": true,
   "toc_window_display": false
  }
 },
 "nbformat": 4,
 "nbformat_minor": 4
}

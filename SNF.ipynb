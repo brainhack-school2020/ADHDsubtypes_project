{
 "cells": [
  {
   "cell_type": "markdown",
   "metadata": {},
   "source": [
    "# SNF Analysis"
   ]
  },
  {
   "cell_type": "code",
   "execution_count": 1,
   "metadata": {},
   "outputs": [],
   "source": [
    "# add install necessities in requirements.txt file\n",
    "import pandas as pd\n",
    "import numpy as np\n",
    "import snf\n",
    "from snf import datasets"
   ]
  },
  {
   "cell_type": "markdown",
   "metadata": {},
   "source": [
    "#### Load all datasets needed"
   ]
  },
  {
   "cell_type": "code",
   "execution_count": 13,
   "metadata": {
    "scrolled": false
   },
   "outputs": [
    {
     "name": "stdout",
     "output_type": "stream",
     "text": [
      "id          int64\n",
      "Gender      int64\n",
      "cIM       float64\n",
      "cHR       float64\n",
      "cIE       float64\n",
      "cSC       float64\n",
      "dtype: object\n"
     ]
    },
    {
     "data": {
      "text/html": [
       "<div>\n",
       "<style scoped>\n",
       "    .dataframe tbody tr th:only-of-type {\n",
       "        vertical-align: middle;\n",
       "    }\n",
       "\n",
       "    .dataframe tbody tr th {\n",
       "        vertical-align: top;\n",
       "    }\n",
       "\n",
       "    .dataframe thead th {\n",
       "        text-align: right;\n",
       "    }\n",
       "</style>\n",
       "<table border=\"1\" class=\"dataframe\">\n",
       "  <thead>\n",
       "    <tr style=\"text-align: right;\">\n",
       "      <th></th>\n",
       "      <th>id</th>\n",
       "      <th>Gender</th>\n",
       "      <th>adhdtype</th>\n",
       "      <th>brain_oscillation</th>\n",
       "      <th>electrode</th>\n",
       "      <th>fft_abs_power</th>\n",
       "    </tr>\n",
       "  </thead>\n",
       "  <tbody>\n",
       "    <tr>\n",
       "      <th>0</th>\n",
       "      <td>1</td>\n",
       "      <td>1</td>\n",
       "      <td>2</td>\n",
       "      <td>Delta</td>\n",
       "      <td>FP1</td>\n",
       "      <td>15.376173</td>\n",
       "    </tr>\n",
       "    <tr>\n",
       "      <th>54</th>\n",
       "      <td>1</td>\n",
       "      <td>1</td>\n",
       "      <td>2</td>\n",
       "      <td>Delta</td>\n",
       "      <td>F7</td>\n",
       "      <td>7.968847</td>\n",
       "    </tr>\n",
       "    <tr>\n",
       "      <th>53</th>\n",
       "      <td>1</td>\n",
       "      <td>1</td>\n",
       "      <td>2</td>\n",
       "      <td>Beta</td>\n",
       "      <td>FP2</td>\n",
       "      <td>13.148877</td>\n",
       "    </tr>\n",
       "    <tr>\n",
       "      <th>52</th>\n",
       "      <td>1</td>\n",
       "      <td>1</td>\n",
       "      <td>2</td>\n",
       "      <td>Beta</td>\n",
       "      <td>T6</td>\n",
       "      <td>4.664137</td>\n",
       "    </tr>\n",
       "    <tr>\n",
       "      <th>51</th>\n",
       "      <td>1</td>\n",
       "      <td>1</td>\n",
       "      <td>2</td>\n",
       "      <td>Beta</td>\n",
       "      <td>P4</td>\n",
       "      <td>6.975211</td>\n",
       "    </tr>\n",
       "    <tr>\n",
       "      <th>...</th>\n",
       "      <td>...</td>\n",
       "      <td>...</td>\n",
       "      <td>...</td>\n",
       "      <td>...</td>\n",
       "      <td>...</td>\n",
       "      <td>...</td>\n",
       "    </tr>\n",
       "    <tr>\n",
       "      <th>5798</th>\n",
       "      <td>702</td>\n",
       "      <td>1</td>\n",
       "      <td>1</td>\n",
       "      <td>Delta</td>\n",
       "      <td>Fz</td>\n",
       "      <td>20.934284</td>\n",
       "    </tr>\n",
       "    <tr>\n",
       "      <th>5797</th>\n",
       "      <td>702</td>\n",
       "      <td>1</td>\n",
       "      <td>1</td>\n",
       "      <td>Delta</td>\n",
       "      <td>F3</td>\n",
       "      <td>17.471239</td>\n",
       "    </tr>\n",
       "    <tr>\n",
       "      <th>5796</th>\n",
       "      <td>702</td>\n",
       "      <td>1</td>\n",
       "      <td>1</td>\n",
       "      <td>Delta</td>\n",
       "      <td>F7</td>\n",
       "      <td>11.253618</td>\n",
       "    </tr>\n",
       "    <tr>\n",
       "      <th>5803</th>\n",
       "      <td>702</td>\n",
       "      <td>1</td>\n",
       "      <td>1</td>\n",
       "      <td>Delta</td>\n",
       "      <td>Cz</td>\n",
       "      <td>23.281091</td>\n",
       "    </tr>\n",
       "    <tr>\n",
       "      <th>5851</th>\n",
       "      <td>702</td>\n",
       "      <td>1</td>\n",
       "      <td>1</td>\n",
       "      <td>Alpha</td>\n",
       "      <td>O1</td>\n",
       "      <td>26.996481</td>\n",
       "    </tr>\n",
       "  </tbody>\n",
       "</table>\n",
       "<p>7296 rows × 6 columns</p>\n",
       "</div>"
      ],
      "text/plain": [
       "       id  Gender  adhdtype brain_oscillation electrode  fft_abs_power\n",
       "0       1       1         2             Delta       FP1      15.376173\n",
       "54      1       1         2             Delta        F7       7.968847\n",
       "53      1       1         2              Beta       FP2      13.148877\n",
       "52      1       1         2              Beta        T6       4.664137\n",
       "51      1       1         2              Beta        P4       6.975211\n",
       "...   ...     ...       ...               ...       ...            ...\n",
       "5798  702       1         1             Delta        Fz      20.934284\n",
       "5797  702       1         1             Delta        F3      17.471239\n",
       "5796  702       1         1             Delta        F7      11.253618\n",
       "5803  702       1         1             Delta        Cz      23.281091\n",
       "5851  702       1         1             Alpha        O1      26.996481\n",
       "\n",
       "[7296 rows x 6 columns]"
      ]
     },
     "execution_count": 13,
     "metadata": {},
     "output_type": "execute_result"
    }
   ],
   "source": [
    "df_conners = pd.read_csv('Data/df_connors', index_col=[0])\n",
    "df_behavioral = pd.read_csv('Data/df_behavioral', index_col=[0])\n",
    "df_eeg = pd.read_csv('Data/df_eeg', index_col=[0])\n",
    "df_labels = pd.read_csv('Data/labels', index_col=[0])\n",
    "print(df_conners.dtypes)\n",
    "df_eeg"
   ]
  },
  {
   "cell_type": "markdown",
   "metadata": {},
   "source": [
    "### For labels"
   ]
  },
  {
   "cell_type": "markdown",
   "metadata": {},
   "source": [
    "drop duplicates of ids, select only column adhdtype and create array"
   ]
  },
  {
   "cell_type": "code",
   "execution_count": 17,
   "metadata": {},
   "outputs": [],
   "source": [
    "labels = df_labels.drop_duplicates()['adhdtype'].values"
   ]
  },
  {
   "cell_type": "code",
   "execution_count": 18,
   "metadata": {},
   "outputs": [
    {
     "data": {
      "text/plain": [
       "(96,)"
      ]
     },
     "execution_count": 18,
     "metadata": {},
     "output_type": "execute_result"
    }
   ],
   "source": [
    "labels.shape"
   ]
  },
  {
   "cell_type": "markdown",
   "metadata": {},
   "source": [
    "### data wrangling for SNF"
   ]
  },
  {
   "cell_type": "markdown",
   "metadata": {},
   "source": [
    "In order to transform all 3 dfs in three arrays of equivalent sjape, we need to reorganize data"
   ]
  },
  {
   "cell_type": "code",
   "execution_count": 19,
   "metadata": {},
   "outputs": [],
   "source": [
    "df_eeg['oscil_electro'] = df_eeg['brain_oscillation'] + df_eeg['electrode']"
   ]
  },
  {
   "cell_type": "markdown",
   "metadata": {},
   "source": [
    "Select only rows of interest"
   ]
  },
  {
   "cell_type": "code",
   "execution_count": 20,
   "metadata": {
    "scrolled": false
   },
   "outputs": [
    {
     "name": "stdout",
     "output_type": "stream",
     "text": [
      "    id  adhdtype oscil_electro  fft_abs_power\n",
      "0    1         2      DeltaFP1      15.376173\n",
      "54   1         2       DeltaF7       7.968847\n",
      "53   1         2       BetaFP2      13.148877\n",
      "52   1         2        BetaT6       4.664137\n",
      "51   1         2        BetaP4       6.975211\n",
      "(7296, 4)\n"
     ]
    }
   ],
   "source": [
    "df_eeg = df_eeg[['id','adhdtype', 'oscil_electro', 'fft_abs_power']]# à enlever je crois\n",
    "print(df_eeg.head())\n",
    "print(df_eeg.shape)"
   ]
  },
  {
   "cell_type": "code",
   "execution_count": 21,
   "metadata": {},
   "outputs": [],
   "source": [
    "\n",
    "df_eeg = pd.pivot_table(df_eeg, index=['id'], columns = ['oscil_electro'], values='fft_abs_power')"
   ]
  },
  {
   "cell_type": "code",
   "execution_count": 22,
   "metadata": {},
   "outputs": [
    {
     "data": {
      "text/plain": [
       "(96, 76)"
      ]
     },
     "execution_count": 22,
     "metadata": {},
     "output_type": "execute_result"
    }
   ],
   "source": [
    "df_eeg.shape"
   ]
  },
  {
   "cell_type": "markdown",
   "metadata": {},
   "source": [
    "Transform in wide format in order to bet set for arrays creation"
   ]
  },
  {
   "cell_type": "markdown",
   "metadata": {},
   "source": [
    "#### Remove index from behavioral and conners dataframes"
   ]
  },
  {
   "cell_type": "code",
   "execution_count": 23,
   "metadata": {},
   "outputs": [],
   "source": [
    "df_behavioral = df_behavioral.set_index('id') \n",
    "df_conners = df_conners.set_index('id')"
   ]
  },
  {
   "cell_type": "markdown",
   "metadata": {},
   "source": [
    "#### Transform dframes into arrays"
   ]
  },
  {
   "cell_type": "code",
   "execution_count": 24,
   "metadata": {},
   "outputs": [],
   "source": [
    "conners = df_conners.to_numpy()\n",
    "behavioral = df_behavioral.to_numpy()\n",
    "eeg = df_eeg.to_numpy()"
   ]
  },
  {
   "cell_type": "markdown",
   "metadata": {},
   "source": [
    "## combine arrays"
   ]
  },
  {
   "cell_type": "code",
   "execution_count": 26,
   "metadata": {},
   "outputs": [],
   "source": [
    "data = [eeg, behavioral, conners]"
   ]
  },
  {
   "cell_type": "code",
   "execution_count": 27,
   "metadata": {
    "scrolled": true
   },
   "outputs": [
    {
     "data": {
      "text/plain": [
       "[array([[10.818137, 11.69305 , 11.946326, ...,  1.548818,  2.636544,\n",
       "          1.892691],\n",
       "        [ 8.078669,  6.853959,  9.794557, ...,  3.068287,  6.241039,\n",
       "          4.537657],\n",
       "        [23.285679, 16.892647, 23.073619, ...,  5.587429, 10.264923,\n",
       "         12.03943 ],\n",
       "        ...,\n",
       "        [ 5.026148,  5.85006 ,  5.16325 , ...,  4.025981,  4.812219,\n",
       "          7.115114],\n",
       "        [39.877166, 30.384745, 52.763258, ...,  8.392572, 34.811888,\n",
       "         26.432725],\n",
       "        [22.374774, 23.104064, 21.272516, ...,  4.340919,  7.637788,\n",
       "          7.569101]]),\n",
       " array([[  1.,  90.,  91., ...,  94.,  80., 110.],\n",
       "        [  1.,  90.,  91., ...,  94.,  80., 110.],\n",
       "        [  1.,  90.,  91., ...,  94.,  80., 110.],\n",
       "        ...,\n",
       "        [  1.,  91.,  88., ...,  94.,  87., 104.],\n",
       "        [  1.,  91.,  88., ...,  94.,  87., 104.],\n",
       "        [  1.,  91.,  88., ...,  94.,  87., 104.]]),\n",
       " array([[ 1., 17., 31., 29.,  9.],\n",
       "        [ 1., 17., 31., 29.,  9.],\n",
       "        [ 1., 17., 31., 29.,  9.],\n",
       "        ...,\n",
       "        [ 1., 17., 14., 10.,  9.],\n",
       "        [ 1., 17., 14., 10.,  9.],\n",
       "        [ 1., 17., 14., 10.,  9.]])]"
      ]
     },
     "execution_count": 27,
     "metadata": {},
     "output_type": "execute_result"
    }
   ],
   "source": [
    "data"
   ]
  },
  {
   "cell_type": "code",
   "execution_count": 28,
   "metadata": {},
   "outputs": [],
   "source": [
    "snf_entry = {\"data\":data, \"labels\":labels}"
   ]
  },
  {
   "cell_type": "code",
   "execution_count": 30,
   "metadata": {},
   "outputs": [
    {
     "data": {
      "text/plain": [
       "{'data': [array([[10.818137, 11.69305 , 11.946326, ...,  1.548818,  2.636544,\n",
       "           1.892691],\n",
       "         [ 8.078669,  6.853959,  9.794557, ...,  3.068287,  6.241039,\n",
       "           4.537657],\n",
       "         [23.285679, 16.892647, 23.073619, ...,  5.587429, 10.264923,\n",
       "          12.03943 ],\n",
       "         ...,\n",
       "         [ 5.026148,  5.85006 ,  5.16325 , ...,  4.025981,  4.812219,\n",
       "           7.115114],\n",
       "         [39.877166, 30.384745, 52.763258, ...,  8.392572, 34.811888,\n",
       "          26.432725],\n",
       "         [22.374774, 23.104064, 21.272516, ...,  4.340919,  7.637788,\n",
       "           7.569101]]),\n",
       "  array([[  1.,  90.,  91., ...,  94.,  80., 110.],\n",
       "         [  1.,  90.,  91., ...,  94.,  80., 110.],\n",
       "         [  1.,  90.,  91., ...,  94.,  80., 110.],\n",
       "         ...,\n",
       "         [  1.,  91.,  88., ...,  94.,  87., 104.],\n",
       "         [  1.,  91.,  88., ...,  94.,  87., 104.],\n",
       "         [  1.,  91.,  88., ...,  94.,  87., 104.]]),\n",
       "  array([[ 1., 17., 31., 29.,  9.],\n",
       "         [ 1., 17., 31., 29.,  9.],\n",
       "         [ 1., 17., 31., 29.,  9.],\n",
       "         ...,\n",
       "         [ 1., 17., 14., 10.,  9.],\n",
       "         [ 1., 17., 14., 10.,  9.],\n",
       "         [ 1., 17., 14., 10.,  9.]])],\n",
       " 'labels': array([2, 2, 1, 1, 2, 2, 2, 2, 1, 2, 1, 2, 1, 1, 2, 1, 2, 2, 1, 1, 2, 1,\n",
       "        2, 1, 1, 2, 2, 1, 1, 2, 1, 2, 2, 0, 2, 2, 1, 1, 1, 1, 2, 1, 1, 2,\n",
       "        1, 2, 1, 1, 1, 2, 1, 1, 1, 2, 1, 2, 0, 1, 2, 1, 1, 2, 1, 2, 1, 1,\n",
       "        2, 2, 1, 2, 1, 2, 2, 2, 2, 1, 1, 1, 2, 1, 1, 1, 1, 2, 2, 1, 2, 2,\n",
       "        2, 2, 2, 1, 1, 2, 2, 1])}"
      ]
     },
     "execution_count": 30,
     "metadata": {},
     "output_type": "execute_result"
    }
   ],
   "source": [
    "snf_entry"
   ]
  },
  {
   "cell_type": "markdown",
   "metadata": {},
   "source": [
    "### SNF analysis"
   ]
  },
  {
   "cell_type": "code",
   "execution_count": 29,
   "metadata": {},
   "outputs": [
    {
     "ename": "ValueError",
     "evalue": "Expected 2D array, got scalar array instead:\narray={'data': [array([[10.818137, 11.69305 , 11.946326, ...,  1.548818,  2.636544,\n         1.892691],\n       [ 8.078669,  6.853959,  9.794557, ...,  3.068287,  6.241039,\n         4.537657],\n       [23.285679, 16.892647, 23.073619, ...,  5.587429, 10.264923,\n        12.03943 ],\n       ...,\n       [ 5.026148,  5.85006 ,  5.16325 , ...,  4.025981,  4.812219,\n         7.115114],\n       [39.877166, 30.384745, 52.763258, ...,  8.392572, 34.811888,\n        26.432725],\n       [22.374774, 23.104064, 21.272516, ...,  4.340919,  7.637788,\n         7.569101]]), array([[  1.,  90.,  91., ...,  94.,  80., 110.],\n       [  1.,  90.,  91., ...,  94.,  80., 110.],\n       [  1.,  90.,  91., ...,  94.,  80., 110.],\n       ...,\n       [  1.,  91.,  88., ...,  94.,  87., 104.],\n       [  1.,  91.,  88., ...,  94.,  87., 104.],\n       [  1.,  91.,  88., ...,  94.,  87., 104.]]), array([[ 1., 17., 31., 29.,  9.],\n       [ 1., 17., 31., 29.,  9.],\n       [ 1., 17., 31., 29.,  9.],\n       ...,\n       [ 1., 17., 14., 10.,  9.],\n       [ 1., 17., 14., 10.,  9.],\n       [ 1., 17., 14., 10.,  9.]])], 'labels': array([2, 2, 1, 1, 2, 2, 2, 2, 1, 2, 1, 2, 1, 1, 2, 1, 2, 2, 1, 1, 2, 1,\n       2, 1, 1, 2, 2, 1, 1, 2, 1, 2, 2, 0, 2, 2, 1, 1, 1, 1, 2, 1, 1, 2,\n       1, 2, 1, 1, 1, 2, 1, 1, 1, 2, 1, 2, 0, 1, 2, 1, 1, 2, 1, 2, 1, 1,\n       2, 2, 1, 2, 1, 2, 2, 2, 2, 1, 1, 1, 2, 1, 1, 1, 1, 2, 2, 1, 2, 2,\n       2, 2, 2, 1, 1, 2, 2, 1])}.\nReshape your data either using array.reshape(-1, 1) if your data has a single feature or array.reshape(1, -1) if it contains a single sample.",
     "output_type": "error",
     "traceback": [
      "\u001b[0;31m---------------------------------------------------------------------------\u001b[0m",
      "\u001b[0;31mValueError\u001b[0m                                Traceback (most recent call last)",
      "\u001b[0;32m<ipython-input-29-bcc2b90241da>\u001b[0m in \u001b[0;36m<module>\u001b[0;34m\u001b[0m\n\u001b[0;32m----> 1\u001b[0;31m \u001b[0maffinity_networks\u001b[0m \u001b[0;34m=\u001b[0m \u001b[0msnf\u001b[0m\u001b[0;34m.\u001b[0m\u001b[0mmake_affinity\u001b[0m\u001b[0;34m(\u001b[0m\u001b[0msnf_entry\u001b[0m\u001b[0;34m,\u001b[0m \u001b[0mmetric\u001b[0m\u001b[0;34m=\u001b[0m\u001b[0;34m'euclidean'\u001b[0m\u001b[0;34m,\u001b[0m \u001b[0mK\u001b[0m\u001b[0;34m=\u001b[0m\u001b[0;36m20\u001b[0m\u001b[0;34m,\u001b[0m \u001b[0mmu\u001b[0m\u001b[0;34m=\u001b[0m\u001b[0;36m0.5\u001b[0m\u001b[0;34m)\u001b[0m\u001b[0;34m\u001b[0m\u001b[0;34m\u001b[0m\u001b[0m\n\u001b[0m",
      "\u001b[0;32m~/miniconda3/lib/python3.7/site-packages/snf/compute.py\u001b[0m in \u001b[0;36mmake_affinity\u001b[0;34m(metric, K, mu, normalize, *data)\u001b[0m\n\u001b[1;32m    146\u001b[0m \u001b[0;34m\u001b[0m\u001b[0m\n\u001b[1;32m    147\u001b[0m     \u001b[0maffinity\u001b[0m \u001b[0;34m=\u001b[0m \u001b[0;34m[\u001b[0m\u001b[0;34m]\u001b[0m\u001b[0;34m\u001b[0m\u001b[0;34m\u001b[0m\u001b[0m\n\u001b[0;32m--> 148\u001b[0;31m     \u001b[0;32mfor\u001b[0m \u001b[0minp\u001b[0m\u001b[0;34m,\u001b[0m \u001b[0mmet\u001b[0m \u001b[0;32min\u001b[0m \u001b[0m_check_data_metric\u001b[0m\u001b[0;34m(\u001b[0m\u001b[0mdata\u001b[0m\u001b[0;34m,\u001b[0m \u001b[0mmetric\u001b[0m\u001b[0;34m)\u001b[0m\u001b[0;34m:\u001b[0m\u001b[0;34m\u001b[0m\u001b[0;34m\u001b[0m\u001b[0m\n\u001b[0m\u001b[1;32m    149\u001b[0m         \u001b[0;31m# normalize data, taking into account potentially missing data\u001b[0m\u001b[0;34m\u001b[0m\u001b[0;34m\u001b[0m\u001b[0;34m\u001b[0m\u001b[0m\n\u001b[1;32m    150\u001b[0m         \u001b[0;32mif\u001b[0m \u001b[0mnormalize\u001b[0m\u001b[0;34m:\u001b[0m\u001b[0;34m\u001b[0m\u001b[0;34m\u001b[0m\u001b[0m\n",
      "\u001b[0;32m~/miniconda3/lib/python3.7/site-packages/snf/compute.py\u001b[0m in \u001b[0;36m_check_data_metric\u001b[0;34m(data, metric)\u001b[0m\n\u001b[1;32m     69\u001b[0m             \u001b[0;32myield\u001b[0m \u001b[0;32mfrom\u001b[0m \u001b[0m_check_data_metric\u001b[0m\u001b[0;34m(\u001b[0m\u001b[0md\u001b[0m\u001b[0;34m,\u001b[0m \u001b[0mm\u001b[0m\u001b[0;34m)\u001b[0m\u001b[0;34m\u001b[0m\u001b[0;34m\u001b[0m\u001b[0m\n\u001b[1;32m     70\u001b[0m         \u001b[0;32melse\u001b[0m\u001b[0;34m:\u001b[0m\u001b[0;34m\u001b[0m\u001b[0;34m\u001b[0m\u001b[0m\n\u001b[0;32m---> 71\u001b[0;31m             \u001b[0;32myield\u001b[0m \u001b[0mcheck_array\u001b[0m\u001b[0;34m(\u001b[0m\u001b[0md\u001b[0m\u001b[0;34m,\u001b[0m \u001b[0mforce_all_finite\u001b[0m\u001b[0;34m=\u001b[0m\u001b[0;32mFalse\u001b[0m\u001b[0;34m)\u001b[0m\u001b[0;34m,\u001b[0m \u001b[0mm\u001b[0m\u001b[0;34m\u001b[0m\u001b[0;34m\u001b[0m\u001b[0m\n\u001b[0m\u001b[1;32m     72\u001b[0m \u001b[0;34m\u001b[0m\u001b[0m\n\u001b[1;32m     73\u001b[0m \u001b[0;34m\u001b[0m\u001b[0m\n",
      "\u001b[0;32m~/miniconda3/lib/python3.7/site-packages/sklearn/utils/validation.py\u001b[0m in \u001b[0;36mcheck_array\u001b[0;34m(array, accept_sparse, accept_large_sparse, dtype, order, copy, force_all_finite, ensure_2d, allow_nd, ensure_min_samples, ensure_min_features, warn_on_dtype, estimator)\u001b[0m\n\u001b[1;32m    547\u001b[0m                     \u001b[0;34m\"Reshape your data either using array.reshape(-1, 1) if \"\u001b[0m\u001b[0;34m\u001b[0m\u001b[0;34m\u001b[0m\u001b[0m\n\u001b[1;32m    548\u001b[0m                     \u001b[0;34m\"your data has a single feature or array.reshape(1, -1) \"\u001b[0m\u001b[0;34m\u001b[0m\u001b[0;34m\u001b[0m\u001b[0m\n\u001b[0;32m--> 549\u001b[0;31m                     \"if it contains a single sample.\".format(array))\n\u001b[0m\u001b[1;32m    550\u001b[0m             \u001b[0;31m# If input is 1D raise error\u001b[0m\u001b[0;34m\u001b[0m\u001b[0;34m\u001b[0m\u001b[0;34m\u001b[0m\u001b[0m\n\u001b[1;32m    551\u001b[0m             \u001b[0;32mif\u001b[0m \u001b[0marray\u001b[0m\u001b[0;34m.\u001b[0m\u001b[0mndim\u001b[0m \u001b[0;34m==\u001b[0m \u001b[0;36m1\u001b[0m\u001b[0;34m:\u001b[0m\u001b[0;34m\u001b[0m\u001b[0;34m\u001b[0m\u001b[0m\n",
      "\u001b[0;31mValueError\u001b[0m: Expected 2D array, got scalar array instead:\narray={'data': [array([[10.818137, 11.69305 , 11.946326, ...,  1.548818,  2.636544,\n         1.892691],\n       [ 8.078669,  6.853959,  9.794557, ...,  3.068287,  6.241039,\n         4.537657],\n       [23.285679, 16.892647, 23.073619, ...,  5.587429, 10.264923,\n        12.03943 ],\n       ...,\n       [ 5.026148,  5.85006 ,  5.16325 , ...,  4.025981,  4.812219,\n         7.115114],\n       [39.877166, 30.384745, 52.763258, ...,  8.392572, 34.811888,\n        26.432725],\n       [22.374774, 23.104064, 21.272516, ...,  4.340919,  7.637788,\n         7.569101]]), array([[  1.,  90.,  91., ...,  94.,  80., 110.],\n       [  1.,  90.,  91., ...,  94.,  80., 110.],\n       [  1.,  90.,  91., ...,  94.,  80., 110.],\n       ...,\n       [  1.,  91.,  88., ...,  94.,  87., 104.],\n       [  1.,  91.,  88., ...,  94.,  87., 104.],\n       [  1.,  91.,  88., ...,  94.,  87., 104.]]), array([[ 1., 17., 31., 29.,  9.],\n       [ 1., 17., 31., 29.,  9.],\n       [ 1., 17., 31., 29.,  9.],\n       ...,\n       [ 1., 17., 14., 10.,  9.],\n       [ 1., 17., 14., 10.,  9.],\n       [ 1., 17., 14., 10.,  9.]])], 'labels': array([2, 2, 1, 1, 2, 2, 2, 2, 1, 2, 1, 2, 1, 1, 2, 1, 2, 2, 1, 1, 2, 1,\n       2, 1, 1, 2, 2, 1, 1, 2, 1, 2, 2, 0, 2, 2, 1, 1, 1, 1, 2, 1, 1, 2,\n       1, 2, 1, 1, 1, 2, 1, 1, 1, 2, 1, 2, 0, 1, 2, 1, 1, 2, 1, 2, 1, 1,\n       2, 2, 1, 2, 1, 2, 2, 2, 2, 1, 1, 1, 2, 1, 1, 1, 1, 2, 2, 1, 2, 2,\n       2, 2, 2, 1, 1, 2, 2, 1])}.\nReshape your data either using array.reshape(-1, 1) if your data has a single feature or array.reshape(1, -1) if it contains a single sample."
     ]
    }
   ],
   "source": [
    "affinity_networks = snf.make_affinity(, metric='euclidean', K=20, mu=0.5)"
   ]
  },
  {
   "cell_type": "code",
   "execution_count": 21,
   "metadata": {},
   "outputs": [],
   "source": [
    "fused_network = snf.snf(affinity_networks, K=20)"
   ]
  },
  {
   "cell_type": "code",
   "execution_count": 22,
   "metadata": {},
   "outputs": [],
   "source": [
    "best, second = snf.get_n_clusters(fused_network)\n"
   ]
  },
  {
   "cell_type": "code",
   "execution_count": null,
   "metadata": {},
   "outputs": [],
   "source": []
  }
 ],
 "metadata": {
  "kernelspec": {
   "display_name": "Python 3",
   "language": "python",
   "name": "python3"
  },
  "language_info": {
   "codemirror_mode": {
    "name": "ipython",
    "version": 3
   },
   "file_extension": ".py",
   "mimetype": "text/x-python",
   "name": "python",
   "nbconvert_exporter": "python",
   "pygments_lexer": "ipython3",
   "version": "3.7.6"
  }
 },
 "nbformat": 4,
 "nbformat_minor": 4
}

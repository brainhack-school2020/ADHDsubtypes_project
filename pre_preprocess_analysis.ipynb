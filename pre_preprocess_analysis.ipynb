{
 "cells": [
  {
   "cell_type": "markdown",
   "metadata": {},
   "source": [
    "## Data wrangling"
   ]
  },
  {
   "cell_type": "code",
   "execution_count": 3,
   "metadata": {},
   "outputs": [],
   "source": [
    "import pandas as pd\n",
    "import numpy as np\n",
    "import glob\n",
    "import preprocessing as pre\n",
    "import seaborn as sn\n",
    "import matplotlib.pyplot as plt\n",
    "\n",
    "%matplotlib inline"
   ]
  },
  {
   "cell_type": "markdown",
   "metadata": {},
   "source": [
    "First we need to extract data from the excel file. In order to construct the eventual for loop, we'll first need to try extracting data from one file"
   ]
  },
  {
   "cell_type": "code",
   "execution_count": 4,
   "metadata": {},
   "outputs": [],
   "source": [
    "df_eeg = pre.process_all_excel_files()"
   ]
  },
  {
   "cell_type": "markdown",
   "metadata": {},
   "source": [
    "Reorder columns of df"
   ]
  },
  {
   "cell_type": "code",
   "execution_count": 5,
   "metadata": {},
   "outputs": [],
   "source": [
    "df_eeg = df_eeg[['id', 'brain_oscillation','freq_band','electrode','fft_abs_power']]"
   ]
  },
  {
   "cell_type": "markdown",
   "metadata": {},
   "source": [
    "Remove participants (10,18, 52 and 215) because of missing Neuropsy data"
   ]
  },
  {
   "cell_type": "code",
   "execution_count": 6,
   "metadata": {},
   "outputs": [],
   "source": [
    "df_eeg = df_eeg[(df_eeg.id != '10') & (df_eeg.id != '18') & (df_eeg.id != '52') & (df_eeg.id != '215')]"
   ]
  },
  {
   "cell_type": "markdown",
   "metadata": {},
   "source": [
    "Verify data wrangling"
   ]
  },
  {
   "cell_type": "code",
   "execution_count": 21,
   "metadata": {},
   "outputs": [
    {
     "name": "stdout",
     "output_type": "stream",
     "text": [
      "(7372, 5)\n"
     ]
    },
    {
     "data": {
      "text/html": [
       "<div>\n",
       "<style scoped>\n",
       "    .dataframe tbody tr th:only-of-type {\n",
       "        vertical-align: middle;\n",
       "    }\n",
       "\n",
       "    .dataframe tbody tr th {\n",
       "        vertical-align: top;\n",
       "    }\n",
       "\n",
       "    .dataframe thead th {\n",
       "        text-align: right;\n",
       "    }\n",
       "</style>\n",
       "<table border=\"1\" class=\"dataframe\">\n",
       "  <thead>\n",
       "    <tr style=\"text-align: right;\">\n",
       "      <th></th>\n",
       "      <th>id</th>\n",
       "      <th>brain_oscillation</th>\n",
       "      <th>freq_band</th>\n",
       "      <th>electrode</th>\n",
       "      <th>fft_abs_power</th>\n",
       "    </tr>\n",
       "  </thead>\n",
       "  <tbody>\n",
       "    <tr>\n",
       "      <th>6612</th>\n",
       "      <td>01</td>\n",
       "      <td>Delta</td>\n",
       "      <td>1.0-4.0Hz</td>\n",
       "      <td>FP1</td>\n",
       "      <td>15.376173</td>\n",
       "    </tr>\n",
       "    <tr>\n",
       "      <th>6630</th>\n",
       "      <td>01</td>\n",
       "      <td>Delta</td>\n",
       "      <td>1.0-4.0Hz</td>\n",
       "      <td>O2</td>\n",
       "      <td>7.277287</td>\n",
       "    </tr>\n",
       "    <tr>\n",
       "      <th>6631</th>\n",
       "      <td>01</td>\n",
       "      <td>Theta</td>\n",
       "      <td>4.0-8.0Hz</td>\n",
       "      <td>FP1</td>\n",
       "      <td>3.890395</td>\n",
       "    </tr>\n",
       "    <tr>\n",
       "      <th>6632</th>\n",
       "      <td>01</td>\n",
       "      <td>Theta</td>\n",
       "      <td>4.0-8.0Hz</td>\n",
       "      <td>FP2</td>\n",
       "      <td>3.813533</td>\n",
       "    </tr>\n",
       "    <tr>\n",
       "      <th>6633</th>\n",
       "      <td>01</td>\n",
       "      <td>Theta</td>\n",
       "      <td>4.0-8.0Hz</td>\n",
       "      <td>F7</td>\n",
       "      <td>2.377164</td>\n",
       "    </tr>\n",
       "  </tbody>\n",
       "</table>\n",
       "</div>"
      ],
      "text/plain": [
       "      id brain_oscillation  freq_band electrode fft_abs_power\n",
       "6612  01             Delta  1.0-4.0Hz       FP1     15.376173\n",
       "6630  01             Delta  1.0-4.0Hz        O2      7.277287\n",
       "6631  01             Theta  4.0-8.0Hz       FP1      3.890395\n",
       "6632  01             Theta  4.0-8.0Hz       FP2      3.813533\n",
       "6633  01             Theta  4.0-8.0Hz        F7      2.377164"
      ]
     },
     "execution_count": 21,
     "metadata": {},
     "output_type": "execute_result"
    }
   ],
   "source": [
    "print(df_eeg.shape)\n",
    "df_eeg.head(5)"
   ]
  },
  {
   "cell_type": "code",
   "execution_count": 17,
   "metadata": {},
   "outputs": [],
   "source": [
    "#sort by ids\n",
    "df_eeg = df_eeg.sort_values(by=['id'])"
   ]
  },
  {
   "cell_type": "code",
   "execution_count": 18,
   "metadata": {},
   "outputs": [
    {
     "data": {
      "text/plain": [
       "id                   object\n",
       "brain_oscillation    object\n",
       "freq_band            object\n",
       "electrode            object\n",
       "fft_abs_power        object\n",
       "dtype: object"
      ]
     },
     "execution_count": 18,
     "metadata": {},
     "output_type": "execute_result"
    }
   ],
   "source": [
    "df_eeg.dtypes"
   ]
  },
  {
   "cell_type": "code",
   "execution_count": 19,
   "metadata": {},
   "outputs": [
    {
     "name": "stdout",
     "output_type": "stream",
     "text": [
      "# unique ids: 97\n",
      "99     76\n",
      "75     76\n",
      "59     76\n",
      "17     76\n",
      "33     76\n",
      "       ..\n",
      "49     76\n",
      "409    76\n",
      "411    76\n",
      "220    76\n",
      "400    76\n",
      "Name: id, Length: 97, dtype: int64\n"
     ]
    }
   ],
   "source": [
    "print('# unique ids: {}'.format(len(df_eeg.id.unique())))\n",
    "print(df_eeg.id.value_counts())"
   ]
  },
  {
   "cell_type": "code",
   "execution_count": 20,
   "metadata": {
    "scrolled": true
   },
   "outputs": [
    {
     "name": "stdout",
     "output_type": "stream",
     "text": [
      "T5     388\n",
      "F4     388\n",
      "F8     388\n",
      "FP2    388\n",
      "C3     388\n",
      "O2     388\n",
      "T3     388\n",
      "O1     388\n",
      "C4     388\n",
      "Pz     388\n",
      "T6     388\n",
      "Fz     388\n",
      "F3     388\n",
      "F7     388\n",
      "P4     388\n",
      "P3     388\n",
      "T4     388\n",
      "Cz     388\n",
      "FP1    388\n",
      "Name: electrode, dtype: int64\n",
      "Delta    1843\n",
      "Theta    1843\n",
      "Alpha    1843\n",
      "Beta     1843\n",
      "Name: brain_oscillation, dtype: int64\n",
      "1.0-4.0Hz      1843\n",
      "12.0-25.0Hz    1843\n",
      "8.0-12.0Hz     1843\n",
      "4.0-8.0Hz      1843\n",
      "Name: freq_band, dtype: int64\n"
     ]
    }
   ],
   "source": [
    "print(df_eeg.electrode.value_counts())\n",
    "print(df_eeg.brain_oscillation.value_counts())\n",
    "print(df_eeg.freq_band.value_counts())"
   ]
  },
  {
   "cell_type": "markdown",
   "metadata": {},
   "source": [
    "#### Export df_eeg into csv format for SNF analysis"
   ]
  },
  {
   "cell_type": "code",
   "execution_count": 22,
   "metadata": {},
   "outputs": [],
   "source": [
    "df_eeg.to_csv('Data/df_eeg')"
   ]
  },
  {
   "cell_type": "markdown",
   "metadata": {},
   "source": [
    "#### We now need to import the Neuropsydata"
   ]
  },
  {
   "cell_type": "code",
   "execution_count": 13,
   "metadata": {},
   "outputs": [
    {
     "name": "stdout",
     "output_type": "stream",
     "text": [
      "(100, 13)\n"
     ]
    },
    {
     "data": {
      "text/html": [
       "<div>\n",
       "<style scoped>\n",
       "    .dataframe tbody tr th:only-of-type {\n",
       "        vertical-align: middle;\n",
       "    }\n",
       "\n",
       "    .dataframe tbody tr th {\n",
       "        vertical-align: top;\n",
       "    }\n",
       "\n",
       "    .dataframe thead th {\n",
       "        text-align: right;\n",
       "    }\n",
       "</style>\n",
       "<table border=\"1\" class=\"dataframe\">\n",
       "  <thead>\n",
       "    <tr style=\"text-align: right;\">\n",
       "      <th></th>\n",
       "      <th>ID</th>\n",
       "      <th>Age</th>\n",
       "      <th>Gender</th>\n",
       "      <th>cIM</th>\n",
       "      <th>cHR</th>\n",
       "      <th>cIE</th>\n",
       "      <th>cSC</th>\n",
       "      <th>Aqtot</th>\n",
       "      <th>Aqaudi</th>\n",
       "      <th>Aqvis</th>\n",
       "      <th>RCQtot</th>\n",
       "      <th>RCQaudi</th>\n",
       "      <th>RCQvis</th>\n",
       "    </tr>\n",
       "  </thead>\n",
       "  <tbody>\n",
       "    <tr>\n",
       "      <th>0</th>\n",
       "      <td>1</td>\n",
       "      <td>21</td>\n",
       "      <td>1</td>\n",
       "      <td>17.0</td>\n",
       "      <td>31.0</td>\n",
       "      <td>29.0</td>\n",
       "      <td>9.0</td>\n",
       "      <td>90.0</td>\n",
       "      <td>91.0</td>\n",
       "      <td>92.0</td>\n",
       "      <td>94.0</td>\n",
       "      <td>80.0</td>\n",
       "      <td>110.0</td>\n",
       "    </tr>\n",
       "    <tr>\n",
       "      <th>1</th>\n",
       "      <td>3</td>\n",
       "      <td>20</td>\n",
       "      <td>1</td>\n",
       "      <td>10.0</td>\n",
       "      <td>5.0</td>\n",
       "      <td>13.0</td>\n",
       "      <td>1.0</td>\n",
       "      <td>27.0</td>\n",
       "      <td>34.0</td>\n",
       "      <td>41.0</td>\n",
       "      <td>25.0</td>\n",
       "      <td>31.0</td>\n",
       "      <td>38.0</td>\n",
       "    </tr>\n",
       "    <tr>\n",
       "      <th>2</th>\n",
       "      <td>4</td>\n",
       "      <td>18</td>\n",
       "      <td>1</td>\n",
       "      <td>26.0</td>\n",
       "      <td>17.0</td>\n",
       "      <td>7.0</td>\n",
       "      <td>15.0</td>\n",
       "      <td>93.0</td>\n",
       "      <td>89.0</td>\n",
       "      <td>96.0</td>\n",
       "      <td>90.0</td>\n",
       "      <td>92.0</td>\n",
       "      <td>90.0</td>\n",
       "    </tr>\n",
       "    <tr>\n",
       "      <th>3</th>\n",
       "      <td>7</td>\n",
       "      <td>23</td>\n",
       "      <td>1</td>\n",
       "      <td>24.0</td>\n",
       "      <td>8.0</td>\n",
       "      <td>6.0</td>\n",
       "      <td>14.0</td>\n",
       "      <td>86.0</td>\n",
       "      <td>66.0</td>\n",
       "      <td>112.0</td>\n",
       "      <td>94.0</td>\n",
       "      <td>90.0</td>\n",
       "      <td>100.0</td>\n",
       "    </tr>\n",
       "    <tr>\n",
       "      <th>4</th>\n",
       "      <td>10</td>\n",
       "      <td>18</td>\n",
       "      <td>1</td>\n",
       "      <td>NaN</td>\n",
       "      <td>NaN</td>\n",
       "      <td>NaN</td>\n",
       "      <td>NaN</td>\n",
       "      <td>98.0</td>\n",
       "      <td>103.0</td>\n",
       "      <td>93.0</td>\n",
       "      <td>92.0</td>\n",
       "      <td>100.0</td>\n",
       "      <td>85.0</td>\n",
       "    </tr>\n",
       "  </tbody>\n",
       "</table>\n",
       "</div>"
      ],
      "text/plain": [
       "   ID  Age  Gender   cIM   cHR   cIE   cSC  Aqtot  Aqaudi  Aqvis  RCQtot  \\\n",
       "0   1   21       1  17.0  31.0  29.0   9.0   90.0    91.0   92.0    94.0   \n",
       "1   3   20       1  10.0   5.0  13.0   1.0   27.0    34.0   41.0    25.0   \n",
       "2   4   18       1  26.0  17.0   7.0  15.0   93.0    89.0   96.0    90.0   \n",
       "3   7   23       1  24.0   8.0   6.0  14.0   86.0    66.0  112.0    94.0   \n",
       "4  10   18       1   NaN   NaN   NaN   NaN   98.0   103.0   93.0    92.0   \n",
       "\n",
       "   RCQaudi  RCQvis  \n",
       "0     80.0   110.0  \n",
       "1     31.0    38.0  \n",
       "2     92.0    90.0  \n",
       "3     90.0   100.0  \n",
       "4    100.0    85.0  "
      ]
     },
     "execution_count": 13,
     "metadata": {},
     "output_type": "execute_result"
    }
   ],
   "source": [
    "df_neuropsy = pd.read_excel(\"Neuropsy.xlsx\", na_values=\".\")\n",
    "print(df_neuropsy.shape)\n",
    "df_neuropsy.head(5)"
   ]
  },
  {
   "cell_type": "markdown",
   "metadata": {},
   "source": [
    "Then remove participants (10,18, 52 and 215) because of missing Neuropsy data"
   ]
  },
  {
   "cell_type": "code",
   "execution_count": 14,
   "metadata": {},
   "outputs": [],
   "source": [
    "df_neuropsy= df_neuropsy.dropna(axis=0, how='any')"
   ]
  },
  {
   "cell_type": "markdown",
   "metadata": {},
   "source": [
    "Verify it worked"
   ]
  },
  {
   "cell_type": "code",
   "execution_count": 15,
   "metadata": {},
   "outputs": [
    {
     "name": "stdout",
     "output_type": "stream",
     "text": [
      "(96, 13)\n"
     ]
    }
   ],
   "source": [
    "print(df_neuropsy.shape)"
   ]
  },
  {
   "cell_type": "markdown",
   "metadata": {},
   "source": [
    "Rename ID variable"
   ]
  },
  {
   "cell_type": "code",
   "execution_count": 23,
   "metadata": {
    "scrolled": false
   },
   "outputs": [
    {
     "data": {
      "text/html": [
       "<div>\n",
       "<style scoped>\n",
       "    .dataframe tbody tr th:only-of-type {\n",
       "        vertical-align: middle;\n",
       "    }\n",
       "\n",
       "    .dataframe tbody tr th {\n",
       "        vertical-align: top;\n",
       "    }\n",
       "\n",
       "    .dataframe thead th {\n",
       "        text-align: right;\n",
       "    }\n",
       "</style>\n",
       "<table border=\"1\" class=\"dataframe\">\n",
       "  <thead>\n",
       "    <tr style=\"text-align: right;\">\n",
       "      <th></th>\n",
       "      <th>id</th>\n",
       "      <th>Age</th>\n",
       "      <th>Gender</th>\n",
       "      <th>cIM</th>\n",
       "      <th>cHR</th>\n",
       "      <th>cIE</th>\n",
       "      <th>cSC</th>\n",
       "      <th>Aqtot</th>\n",
       "      <th>Aqaudi</th>\n",
       "      <th>Aqvis</th>\n",
       "      <th>RCQtot</th>\n",
       "      <th>RCQaudi</th>\n",
       "      <th>RCQvis</th>\n",
       "    </tr>\n",
       "  </thead>\n",
       "  <tbody>\n",
       "    <tr>\n",
       "      <th>0</th>\n",
       "      <td>1</td>\n",
       "      <td>21</td>\n",
       "      <td>1</td>\n",
       "      <td>17.0</td>\n",
       "      <td>31.0</td>\n",
       "      <td>29.0</td>\n",
       "      <td>9.0</td>\n",
       "      <td>90.0</td>\n",
       "      <td>91.0</td>\n",
       "      <td>92.0</td>\n",
       "      <td>94.0</td>\n",
       "      <td>80.0</td>\n",
       "      <td>110.0</td>\n",
       "    </tr>\n",
       "    <tr>\n",
       "      <th>1</th>\n",
       "      <td>3</td>\n",
       "      <td>20</td>\n",
       "      <td>1</td>\n",
       "      <td>10.0</td>\n",
       "      <td>5.0</td>\n",
       "      <td>13.0</td>\n",
       "      <td>1.0</td>\n",
       "      <td>27.0</td>\n",
       "      <td>34.0</td>\n",
       "      <td>41.0</td>\n",
       "      <td>25.0</td>\n",
       "      <td>31.0</td>\n",
       "      <td>38.0</td>\n",
       "    </tr>\n",
       "    <tr>\n",
       "      <th>2</th>\n",
       "      <td>4</td>\n",
       "      <td>18</td>\n",
       "      <td>1</td>\n",
       "      <td>26.0</td>\n",
       "      <td>17.0</td>\n",
       "      <td>7.0</td>\n",
       "      <td>15.0</td>\n",
       "      <td>93.0</td>\n",
       "      <td>89.0</td>\n",
       "      <td>96.0</td>\n",
       "      <td>90.0</td>\n",
       "      <td>92.0</td>\n",
       "      <td>90.0</td>\n",
       "    </tr>\n",
       "    <tr>\n",
       "      <th>3</th>\n",
       "      <td>7</td>\n",
       "      <td>23</td>\n",
       "      <td>1</td>\n",
       "      <td>24.0</td>\n",
       "      <td>8.0</td>\n",
       "      <td>6.0</td>\n",
       "      <td>14.0</td>\n",
       "      <td>86.0</td>\n",
       "      <td>66.0</td>\n",
       "      <td>112.0</td>\n",
       "      <td>94.0</td>\n",
       "      <td>90.0</td>\n",
       "      <td>100.0</td>\n",
       "    </tr>\n",
       "    <tr>\n",
       "      <th>5</th>\n",
       "      <td>11</td>\n",
       "      <td>21</td>\n",
       "      <td>1</td>\n",
       "      <td>16.0</td>\n",
       "      <td>26.0</td>\n",
       "      <td>13.0</td>\n",
       "      <td>10.0</td>\n",
       "      <td>45.0</td>\n",
       "      <td>33.0</td>\n",
       "      <td>78.0</td>\n",
       "      <td>69.0</td>\n",
       "      <td>51.0</td>\n",
       "      <td>94.0</td>\n",
       "    </tr>\n",
       "  </tbody>\n",
       "</table>\n",
       "</div>"
      ],
      "text/plain": [
       "   id  Age  Gender   cIM   cHR   cIE   cSC  Aqtot  Aqaudi  Aqvis  RCQtot  \\\n",
       "0   1   21       1  17.0  31.0  29.0   9.0   90.0    91.0   92.0    94.0   \n",
       "1   3   20       1  10.0   5.0  13.0   1.0   27.0    34.0   41.0    25.0   \n",
       "2   4   18       1  26.0  17.0   7.0  15.0   93.0    89.0   96.0    90.0   \n",
       "3   7   23       1  24.0   8.0   6.0  14.0   86.0    66.0  112.0    94.0   \n",
       "5  11   21       1  16.0  26.0  13.0  10.0   45.0    33.0   78.0    69.0   \n",
       "\n",
       "   RCQaudi  RCQvis  \n",
       "0     80.0   110.0  \n",
       "1     31.0    38.0  \n",
       "2     92.0    90.0  \n",
       "3     90.0   100.0  \n",
       "5     51.0    94.0  "
      ]
     },
     "execution_count": 23,
     "metadata": {},
     "output_type": "execute_result"
    }
   ],
   "source": [
    "#rename id\n",
    "df_neuropsy.rename(columns = {'ID':'id'}, inplace = True) #rename id so it can be merged\n",
    "df_neuropsy.head(5)"
   ]
  },
  {
   "cell_type": "markdown",
   "metadata": {},
   "source": [
    "#### Create two different df for behavioral data and connors"
   ]
  },
  {
   "cell_type": "code",
   "execution_count": 29,
   "metadata": {},
   "outputs": [
    {
     "name": "stdout",
     "output_type": "stream",
     "text": [
      "   id  Gender   cIM   cHR   cIE   cSC\n",
      "0   1       1  17.0  31.0  29.0   9.0\n",
      "1   3       1  10.0   5.0  13.0   1.0\n",
      "2   4       1  26.0  17.0   7.0  15.0\n",
      "3   7       1  24.0   8.0   6.0  14.0\n",
      "5  11       1  16.0  26.0  13.0  10.0\n",
      "   id  Gender  Aqtot  Aqaudi  Aqvis  RCQtot  RCQaudi  RCQvis\n",
      "0   1       1   90.0    91.0   92.0    94.0     80.0   110.0\n",
      "1   3       1   27.0    34.0   41.0    25.0     31.0    38.0\n",
      "2   4       1   93.0    89.0   96.0    90.0     92.0    90.0\n",
      "3   7       1   86.0    66.0  112.0    94.0     90.0   100.0\n",
      "5  11       1   45.0    33.0   78.0    69.0     51.0    94.0\n"
     ]
    }
   ],
   "source": [
    "df_connors = df_neuropsy[['id','Gender','cIM', 'cHR', 'cIE', 'cSC']]\n",
    "df_behavioral = df_neuropsy[['id','Gender','Aqtot', 'Aqaudi', 'Aqvis', 'RCQtot', 'RCQaudi', 'RCQvis']]\n",
    "print(df_connors.head())\n",
    "print(df_behavioral.head())"
   ]
  },
  {
   "cell_type": "markdown",
   "metadata": {},
   "source": [
    "#### Export as csv "
   ]
  },
  {
   "cell_type": "code",
   "execution_count": 32,
   "metadata": {},
   "outputs": [],
   "source": [
    "df_connors.to_csv('Data/df_connors')\n",
    "df_behavioral.to_csv('Data/df_behavioral')"
   ]
  }
 ],
 "metadata": {
  "kernelspec": {
   "display_name": "Python 3",
   "language": "python",
   "name": "python3"
  },
  "language_info": {
   "codemirror_mode": {
    "name": "ipython",
    "version": 3
   },
   "file_extension": ".py",
   "mimetype": "text/x-python",
   "name": "python",
   "nbconvert_exporter": "python",
   "pygments_lexer": "ipython3",
   "version": "3.7.6"
  }
 },
 "nbformat": 4,
 "nbformat_minor": 4
}

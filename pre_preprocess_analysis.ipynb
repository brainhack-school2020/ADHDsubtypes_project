{
 "cells": [
  {
   "cell_type": "markdown",
   "metadata": {},
   "source": [
    "## Data wrangling"
   ]
  },
  {
   "cell_type": "code",
   "execution_count": 2,
   "metadata": {},
   "outputs": [],
   "source": [
    "import pandas as pd\n",
    "import numpy as np\n",
    "import glob\n",
    "import preprocessing as pre"
   ]
  },
  {
   "cell_type": "markdown",
   "metadata": {},
   "source": [
    "First we need to extract data from the excel file. In order to construct the eventual for loop, we'll first need to try extracting data from one file"
   ]
  },
  {
   "cell_type": "code",
   "execution_count": 3,
   "metadata": {},
   "outputs": [],
   "source": [
    "df = pre.process_all_excel_files()"
   ]
  },
  {
   "cell_type": "code",
   "execution_count": 4,
   "metadata": {},
   "outputs": [
    {
     "name": "stdout",
     "output_type": "stream",
     "text": [
      "(29694, 5)\n"
     ]
    },
    {
     "data": {
      "text/html": [
       "<div>\n",
       "<style scoped>\n",
       "    .dataframe tbody tr th:only-of-type {\n",
       "        vertical-align: middle;\n",
       "    }\n",
       "\n",
       "    .dataframe tbody tr th {\n",
       "        vertical-align: top;\n",
       "    }\n",
       "\n",
       "    .dataframe thead th {\n",
       "        text-align: right;\n",
       "    }\n",
       "</style>\n",
       "<table border=\"1\" class=\"dataframe\">\n",
       "  <thead>\n",
       "    <tr style=\"text-align: right;\">\n",
       "      <th></th>\n",
       "      <th>electrode</th>\n",
       "      <th>brain_oscillation</th>\n",
       "      <th>fft_abs_power</th>\n",
       "      <th>freq_band</th>\n",
       "      <th>id</th>\n",
       "    </tr>\n",
       "  </thead>\n",
       "  <tbody>\n",
       "    <tr>\n",
       "      <th>0</th>\n",
       "      <td>FP1</td>\n",
       "      <td>Delta</td>\n",
       "      <td>15.565495</td>\n",
       "      <td>1.0-4.0Hz</td>\n",
       "      <td>134</td>\n",
       "    </tr>\n",
       "    <tr>\n",
       "      <th>1</th>\n",
       "      <td>FP2</td>\n",
       "      <td>Delta</td>\n",
       "      <td>13.945462</td>\n",
       "      <td>1.0-4.0Hz</td>\n",
       "      <td>134</td>\n",
       "    </tr>\n",
       "    <tr>\n",
       "      <th>2</th>\n",
       "      <td>F7</td>\n",
       "      <td>Delta</td>\n",
       "      <td>10.874886</td>\n",
       "      <td>1.0-4.0Hz</td>\n",
       "      <td>134</td>\n",
       "    </tr>\n",
       "    <tr>\n",
       "      <th>3</th>\n",
       "      <td>F3</td>\n",
       "      <td>Delta</td>\n",
       "      <td>13.581803</td>\n",
       "      <td>1.0-4.0Hz</td>\n",
       "      <td>134</td>\n",
       "    </tr>\n",
       "    <tr>\n",
       "      <th>4</th>\n",
       "      <td>Fz</td>\n",
       "      <td>Delta</td>\n",
       "      <td>15.644595</td>\n",
       "      <td>1.0-4.0Hz</td>\n",
       "      <td>134</td>\n",
       "    </tr>\n",
       "    <tr>\n",
       "      <th>5</th>\n",
       "      <td>F4</td>\n",
       "      <td>Delta</td>\n",
       "      <td>13.203194</td>\n",
       "      <td>1.0-4.0Hz</td>\n",
       "      <td>134</td>\n",
       "    </tr>\n",
       "    <tr>\n",
       "      <th>6</th>\n",
       "      <td>F8</td>\n",
       "      <td>Delta</td>\n",
       "      <td>9.230906</td>\n",
       "      <td>1.0-4.0Hz</td>\n",
       "      <td>134</td>\n",
       "    </tr>\n",
       "    <tr>\n",
       "      <th>7</th>\n",
       "      <td>T3</td>\n",
       "      <td>Delta</td>\n",
       "      <td>9.097626</td>\n",
       "      <td>1.0-4.0Hz</td>\n",
       "      <td>134</td>\n",
       "    </tr>\n",
       "    <tr>\n",
       "      <th>8</th>\n",
       "      <td>C3</td>\n",
       "      <td>Delta</td>\n",
       "      <td>14.907271</td>\n",
       "      <td>1.0-4.0Hz</td>\n",
       "      <td>134</td>\n",
       "    </tr>\n",
       "    <tr>\n",
       "      <th>9</th>\n",
       "      <td>Cz</td>\n",
       "      <td>Delta</td>\n",
       "      <td>22.119252</td>\n",
       "      <td>1.0-4.0Hz</td>\n",
       "      <td>134</td>\n",
       "    </tr>\n",
       "  </tbody>\n",
       "</table>\n",
       "</div>"
      ],
      "text/plain": [
       "  electrode brain_oscillation fft_abs_power  freq_band   id\n",
       "0       FP1             Delta     15.565495  1.0-4.0Hz  134\n",
       "1       FP2             Delta     13.945462  1.0-4.0Hz  134\n",
       "2        F7             Delta     10.874886  1.0-4.0Hz  134\n",
       "3        F3             Delta     13.581803  1.0-4.0Hz  134\n",
       "4        Fz             Delta     15.644595  1.0-4.0Hz  134\n",
       "5        F4             Delta     13.203194  1.0-4.0Hz  134\n",
       "6        F8             Delta      9.230906  1.0-4.0Hz  134\n",
       "7        T3             Delta      9.097626  1.0-4.0Hz  134\n",
       "8        C3             Delta     14.907271  1.0-4.0Hz  134\n",
       "9        Cz             Delta     22.119252  1.0-4.0Hz  134"
      ]
     },
     "execution_count": 4,
     "metadata": {},
     "output_type": "execute_result"
    }
   ],
   "source": [
    "print(df.shape)\n",
    "df.head(10)"
   ]
  },
  {
   "cell_type": "code",
   "execution_count": 5,
   "metadata": {},
   "outputs": [
    {
     "name": "stdout",
     "output_type": "stream",
     "text": [
      "# unique ids: 101\n",
      "207    294\n",
      "13     294\n",
      "409    294\n",
      "07     294\n",
      "52     294\n",
      "      ... \n",
      "131    294\n",
      "64     294\n",
      "84     294\n",
      "95     294\n",
      "10     294\n",
      "Name: id, Length: 101, dtype: int64\n"
     ]
    }
   ],
   "source": [
    "print('# unique ids: {}'.format(len(df.id.unique())))\n",
    "print(df.id.value_counts())"
   ]
  },
  {
   "cell_type": "code",
   "execution_count": 6,
   "metadata": {},
   "outputs": [
    {
     "name": "stdout",
     "output_type": "stream",
     "text": [
      "Pz     1414\n",
      "T5     1414\n",
      "T3     1414\n",
      "C3     1414\n",
      "F7     1414\n",
      "F4     1414\n",
      "Cz     1414\n",
      "T4     1414\n",
      "FP1    1414\n",
      "O1     1414\n",
      "T6     1414\n",
      "F3     1414\n",
      "A2     1414\n",
      "P3     1414\n",
      "Fz     1414\n",
      "C4     1414\n",
      "FP2    1414\n",
      "O2     1414\n",
      "F8     1414\n",
      "P4     1414\n",
      "A1     1414\n",
      "Name: electrode, dtype: int64\n",
      "Alpha        2121\n",
      "Beta1        2121\n",
      "Gamma1       2121\n",
      "HighBeta     2121\n",
      "Alpha1       2121\n",
      "Theta        2121\n",
      "Beta         2121\n",
      "Gamma2       2121\n",
      "Alpha2       2121\n",
      "Beta3        2121\n",
      "Beta2        2121\n",
      "Delta        2121\n",
      "HighGamma    2121\n",
      "Gamma        2121\n",
      "Name: brain_oscillation, dtype: int64\n",
      "1.0-4.0Hz      2121\n",
      "4.0-8.0Hz      2121\n",
      "40.0-50.0Hz    2121\n",
      "12.0-25.0Hz    2121\n",
      "15.0-18.0Hz    2121\n",
      "30.0-40.0Hz    2121\n",
      "35.0-40.0Hz    2121\n",
      "10.0-12.0Hz    2121\n",
      "30.0-35.0Hz    2121\n",
      "8.0-10.0Hz     2121\n",
      "18.0-25.0Hz    2121\n",
      "12.0-15.0Hz    2121\n",
      "25.0-30.0Hz    2121\n",
      "8.0-12.0Hz     2121\n",
      "Name: freq_band, dtype: int64\n"
     ]
    }
   ],
   "source": [
    "print(df.electrode.value_counts())\n",
    "print(df.brain_oscillation.value_counts())\n",
    "print(df.freq_band.value_counts())"
   ]
  }
 ],
 "metadata": {
  "kernelspec": {
   "display_name": "Python 3",
   "language": "python",
   "name": "python3"
  },
  "language_info": {
   "codemirror_mode": {
    "name": "ipython",
    "version": 3
   },
   "file_extension": ".py",
   "mimetype": "text/x-python",
   "name": "python",
   "nbconvert_exporter": "python",
   "pygments_lexer": "ipython3",
   "version": "3.7.6"
  }
 },
 "nbformat": 4,
 "nbformat_minor": 4
}
